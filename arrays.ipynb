{
 "cells": [
  {
   "cell_type": "markdown",
   "metadata": {},
   "source": [
    "reverse a array in python"
   ]
  },
  {
   "cell_type": "code",
   "execution_count": null,
   "metadata": {},
   "outputs": [
    {
     "name": "stdout",
     "output_type": "stream",
     "text": [
      "[3, 6, 7, 6, 4.5, 3, 2, 1]\n",
      "[3, 6, 7, 6, 4.5, 3, 2, 1]\n"
     ]
    }
   ],
   "source": [
    "listing =[1,2,3,4.5,6,7,6,3]\n",
    "listing2 =[]\n",
    "for i in range(len(listing)-1, -1, -1):\n",
    "    listing2.append(listing[i])\n",
    "\n",
    "print(listing2)\n",
    "\n",
    "\n",
    "rev =[]\n",
    "for i in listing:\n",
    "    rev.insert(0,i)\n",
    "\n",
    "print(rev)\n"
   ]
  },
  {
   "cell_type": "markdown",
   "metadata": {},
   "source": [
    "another method for array \n"
   ]
  },
  {
   "cell_type": "code",
   "execution_count": 12,
   "metadata": {},
   "outputs": [
    {
     "name": "stdout",
     "output_type": "stream",
     "text": [
      "[3, 5, 4, 3, 2, 1]\n"
     ]
    }
   ],
   "source": [
    "listings =[1,2,3,4,5,3]\n",
    "low =0\n",
    "high =len(listings)-1\n",
    "while low < high:\n",
    "    listings[low],listings[high]=listings[high],listings[low]\n",
    "    low =low+1\n",
    "    high =high-1\n",
    "\n",
    "print(listings)\n"
   ]
  },
  {
   "cell_type": "code",
   "execution_count": null,
   "metadata": {},
   "outputs": [
    {
     "name": "stdout",
     "output_type": "stream",
     "text": [
      "Unique elements: {9, 42, 13, 23, 52, 343}\n",
      "Duplicate elements: {1, 2, 3, 4, 12}\n"
     ]
    }
   ],
   "source": [
    "dub = set()\n",
    "uni = set()\n",
    "list1 = [1, 2, 3, 4, 2, 1, 3, 4, 23, 12, 3, 13, 4, 3, 42, 12, 12, 12, 4, 343, 52, 9]\n",
    "\n",
    "for i in list1:\n",
    "    if i in uni:\n",
    "        dub.add(i)\n",
    "        uni.remove(i)\n",
    "    elif i not in dub:\n",
    "        uni.add(i)\n",
    "print(\"Unique elements:\", uni)\n",
    "print(\"Duplicate elements:\", dub)"
   ]
  }
 ],
 "metadata": {
  "kernelspec": {
   "display_name": "Python 3",
   "language": "python",
   "name": "python3"
  },
  "language_info": {
   "codemirror_mode": {
    "name": "ipython",
    "version": 3
   },
   "file_extension": ".py",
   "mimetype": "text/x-python",
   "name": "python",
   "nbconvert_exporter": "python",
   "pygments_lexer": "ipython3",
   "version": "3.11.5"
  }
 },
 "nbformat": 4,
 "nbformat_minor": 2
}
