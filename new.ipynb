{
 "cells": [
  {
   "cell_type": "code",
   "execution_count": 3,
   "metadata": {},
   "outputs": [
    {
     "name": "stdout",
     "output_type": "stream",
     "text": [
      "17\n"
     ]
    }
   ],
   "source": [
    "num =int(input(\"enter the number :\"))\n",
    "\n",
    "while num>0:\n",
    "    num=num+1\n",
    "    count =0\n",
    "    for i in range(1,num+1):\n",
    "        if num%i==0:\n",
    "            count+=1\n",
    "    if count ==2:\n",
    "        print(i)\n",
    "        break\n"
   ]
  },
  {
   "cell_type": "code",
   "execution_count": 5,
   "metadata": {},
   "outputs": [],
   "source": [
    "nums =int(input(\"enter the number for the under the number prime numbers:\"))\n",
    "while num>0:\n",
    "    num =num-1\n",
    "    count =0\n",
    "    for i in range(1,num+1):\n",
    "        if num%i==0:\n",
    "            count+1\n",
    "\n",
    "    if count ==2:\n",
    "        print(i)\n",
    "        break"
   ]
  },
  {
   "cell_type": "code",
   "execution_count": null,
   "metadata": {},
   "outputs": [
    {
     "name": "stdout",
     "output_type": "stream",
     "text": [
      "[0, 1, 1, 2, 3, 5, 8, 13, 21, 34, 55, 89, 144, 233, 377]\n"
     ]
    }
   ],
   "source": [
    "# fibbo\n",
    "\n",
    "n = int(input(\"Enter the number of terms for the Fibonacci series: \"))\n",
    "n1, n2 = 0, 1\n",
    "\n",
    "def fibbo(n1, n2, n):\n",
    "    fib_series = [n1, n2]\n",
    "    for i in range(2, n):\n",
    "        fib = n1 + n2\n",
    "        fib_series.append(fib)\n",
    "        n1, n2 = n2, fib\n",
    "    return fib_series\n",
    "\n",
    "res = fibbo(n1, n2, n)\n",
    "print(res)"
   ]
  },
  {
   "cell_type": "code",
   "execution_count": 10,
   "metadata": {},
   "outputs": [
    {
     "name": "stdout",
     "output_type": "stream",
     "text": [
      "[3, 24, 5, 4, 2, 3, 5, 4, 3, 1]\n",
      "[3, 24, 5, 4, 2, 3, 5, 4, 3, 1]\n",
      "[3, 24, 5, 4, 2, 3, 5, 4, 3, 1]\n"
     ]
    }
   ],
   "source": [
    "# reverser an array \n",
    "\n",
    "listtt =[1,3,4,5,3,2,4,5,24,3]\n",
    "lisr =listtt[::-1]\n",
    "print(lisr)\n",
    "newlisting =[]\n",
    "another =[]\n",
    "\n",
    "for i in range(len(listtt)-1,-1,-1):\n",
    "    newlisting.append(listtt[i])\n",
    "print(newlisting)\n",
    "\n",
    "\n",
    "for i in listtt:\n",
    "    another.insert(0,i)\n",
    "print(another)"
   ]
  },
  {
   "cell_type": "code",
   "execution_count": 3,
   "metadata": {},
   "outputs": [
    {
     "name": "stdout",
     "output_type": "stream",
     "text": [
      "10 repeated times 4\n",
      "30 repeated times 2\n",
      "20 repeated times 2\n"
     ]
    }
   ],
   "source": [
    "arr = [10, 30, 10, 20, 10, 20, 30, 10]\n",
    "frequency = {}\n",
    "for num in arr:\n",
    "    if num in frequency:\n",
    "        frequency[num] += 1   \n",
    "    else:\n",
    "        frequency[num] = 1  \n",
    "for i, val in frequency.items():\n",
    "    print(f\"{i} repeated times {val}\")"
   ]
  },
  {
   "cell_type": "code",
   "execution_count": 5,
   "metadata": {},
   "outputs": [
    {
     "name": "stdout",
     "output_type": "stream",
     "text": [
      "[False, True, False, True, False]\n"
     ]
    }
   ],
   "source": [
    "numbers = [111, 321, 300, 652, 789]\n",
    "res = []  \n",
    "for number in numbers:\n",
    "    str_number = str(number)\n",
    "    decreasing = True  \n",
    "    for i in range(len(str_number) - 1):\n",
    "        if str_number[i] <= str_number[i + 1]:   \n",
    "            decreasing = False\n",
    "            break  \n",
    "    res.append(decreasing)\n",
    "print(res)\n"
   ]
  },
  {
   "cell_type": "code",
   "execution_count": null,
   "metadata": {},
   "outputs": [
    {
     "name": "stdout",
     "output_type": "stream",
     "text": [
      "False\n",
      "True\n",
      "True\n",
      "False\n"
     ]
    }
   ],
   "source": [
    "numbers = [253, 678, 258, 321]\n",
    "for number in numbers:\n",
    "    str_number = str(number)\n",
    "    increasing = True\n",
    "    for i in range(len(str_number) - 1):\n",
    "        if str_number[i] >= str_number[i + 1]:  \n",
    "            increasing = False\n",
    "            break\n",
    "    print(increasing)\n"
   ]
  },
  {
   "cell_type": "code",
   "execution_count": null,
   "metadata": {},
   "outputs": [],
   "source": [
    "# 19) check if array is subset of another array or not .if the arr2 contains elements which are there in arr1 then it is a subset of an array.\n",
    "# arr1=[1,3,4,5,2]\n",
    "# arr2=[2,4,3,1,7.5.15]\n",
    "\n",
    "\n"
   ]
  }
 ],
 "metadata": {
  "kernelspec": {
   "display_name": "Python 3",
   "language": "python",
   "name": "python3"
  },
  "language_info": {
   "codemirror_mode": {
    "name": "ipython",
    "version": 3
   },
   "file_extension": ".py",
   "mimetype": "text/x-python",
   "name": "python",
   "nbconvert_exporter": "python",
   "pygments_lexer": "ipython3",
   "version": "3.11.5"
  }
 },
 "nbformat": 4,
 "nbformat_minor": 2
}
