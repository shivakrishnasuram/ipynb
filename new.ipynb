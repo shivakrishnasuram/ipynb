{
 "cells": [
  {
   "cell_type": "code",
   "execution_count": 3,
   "metadata": {},
   "outputs": [
    {
     "name": "stdout",
     "output_type": "stream",
     "text": [
      "17\n"
     ]
    }
   ],
   "source": [
    "num =int(input(\"enter the number :\"))\n",
    "\n",
    "while num>0:\n",
    "    num=num+1\n",
    "    count =0\n",
    "    for i in range(1,num+1):\n",
    "        if num%i==0:\n",
    "            count+=1\n",
    "    if count ==2:\n",
    "        print(i)\n",
    "        break\n"
   ]
  },
  {
   "cell_type": "code",
   "execution_count": 5,
   "metadata": {},
   "outputs": [],
   "source": [
    "nums =int(input(\"enter the number for the under the number prime numbers:\"))\n",
    "while num>0:\n",
    "    num =num-1\n",
    "    count =0\n",
    "    for i in range(1,num+1):\n",
    "        if num%i==0:\n",
    "            count+1\n",
    "\n",
    "    if count ==2:\n",
    "        print(i)\n",
    "        break"
   ]
  },
  {
   "cell_type": "code",
   "execution_count": null,
   "metadata": {},
   "outputs": [
    {
     "name": "stdout",
     "output_type": "stream",
     "text": [
      "[0, 1, 1, 2, 3, 5, 8, 13, 21, 34, 55, 89, 144, 233, 377]\n"
     ]
    }
   ],
   "source": [
    "# fibbo\n",
    "\n",
    "n = int(input(\"Enter the number of terms for the Fibonacci series: \"))\n",
    "n1, n2 = 0, 1\n",
    "\n",
    "def fibbo(n1, n2, n):\n",
    "    fib_series = [n1, n2]\n",
    "    for i in range(2, n):\n",
    "        fib = n1 + n2\n",
    "        fib_series.append(fib)\n",
    "        n1, n2 = n2, fib\n",
    "    return fib_series\n",
    "\n",
    "res = fibbo(n1, n2, n)\n",
    "print(res)"
   ]
  },
  {
   "cell_type": "code",
   "execution_count": 10,
   "metadata": {},
   "outputs": [
    {
     "name": "stdout",
     "output_type": "stream",
     "text": [
      "[3, 24, 5, 4, 2, 3, 5, 4, 3, 1]\n",
      "[3, 24, 5, 4, 2, 3, 5, 4, 3, 1]\n",
      "[3, 24, 5, 4, 2, 3, 5, 4, 3, 1]\n"
     ]
    }
   ],
   "source": [
    "# reverser an array \n",
    "\n",
    "listtt =[1,3,4,5,3,2,4,5,24,3]\n",
    "lisr =listtt[::-1]\n",
    "print(lisr)\n",
    "newlisting =[]\n",
    "another =[]\n",
    "\n",
    "for i in range(len(listtt)-1,-1,-1):\n",
    "    newlisting.append(listtt[i])\n",
    "print(newlisting)\n",
    "\n",
    "\n",
    "for i in listtt:\n",
    "    another.insert(0,i)\n",
    "print(another)"
   ]
  },
  {
   "cell_type": "code",
   "execution_count": 3,
   "metadata": {},
   "outputs": [
    {
     "name": "stdout",
     "output_type": "stream",
     "text": [
      "10 repeated times 4\n",
      "30 repeated times 2\n",
      "20 repeated times 2\n"
     ]
    }
   ],
   "source": [
    "arr = [10, 30, 10, 20, 10, 20, 30, 10]\n",
    "frequency = {}\n",
    "for num in arr:\n",
    "    if num in frequency:\n",
    "        frequency[num] += 1   \n",
    "    else:\n",
    "        frequency[num] = 1  \n",
    "for i, val in frequency.items():\n",
    "    print(f\"{i} repeated times {val}\")"
   ]
  },
  {
   "cell_type": "code",
   "execution_count": 5,
   "metadata": {},
   "outputs": [
    {
     "name": "stdout",
     "output_type": "stream",
     "text": [
      "[False, True, False, True, False]\n"
     ]
    }
   ],
   "source": [
    "numbers = [111, 321, 300, 652, 789]\n",
    "res = []  \n",
    "for number in numbers:\n",
    "    str_number = str(number)\n",
    "    decreasing = True  \n",
    "    for i in range(len(str_number) - 1):\n",
    "        if str_number[i] <= str_number[i + 1]:   \n",
    "            decreasing = False\n",
    "            break  \n",
    "    res.append(decreasing)\n",
    "print(res)\n"
   ]
  },
  {
   "cell_type": "code",
   "execution_count": null,
   "metadata": {},
   "outputs": [
    {
     "name": "stdout",
     "output_type": "stream",
     "text": [
      "False\n",
      "True\n",
      "True\n",
      "False\n"
     ]
    }
   ],
   "source": [
    "numbers = [253, 678, 258, 321]\n",
    "for number in numbers:\n",
    "    str_number = str(number)\n",
    "    increasing = True\n",
    "    for i in range(len(str_number) - 1):\n",
    "        if str_number[i] >= str_number[i + 1]:  \n",
    "            increasing = False\n",
    "            break\n",
    "    print(increasing)\n"
   ]
  },
  {
   "cell_type": "code",
   "execution_count": 26,
   "metadata": {},
   "outputs": [
    {
     "name": "stdout",
     "output_type": "stream",
     "text": [
      "1 is not a prime\n",
      "2 is prime\n",
      "3 is prime\n",
      "5 is prime\n",
      "7 is prime\n",
      "11 is prime\n",
      "13 is prime\n",
      "17 is prime\n",
      "19 is prime\n",
      "23 is prime\n",
      "29 is prime\n",
      "31 is prime\n",
      "37 is prime\n",
      "41 is prime\n",
      "43 is prime\n",
      "47 is prime\n",
      "53 is prime\n",
      "59 is prime\n",
      "61 is prime\n",
      "67 is prime\n",
      "71 is prime\n",
      "73 is prime\n",
      "79 is prime\n",
      "83 is prime\n",
      "89 is prime\n",
      "97 is prime\n"
     ]
    }
   ],
   "source": [
    "# # # 19) check if array is subset of another array or not .if the arr2 contains elements which are there in arr1 then it is a subset of an array.\n",
    "# # # arr1=[1,3,4,5,2]\n",
    "# # # arr2=[2,4,3,1,7.5.15]\n",
    "\n",
    "\n",
    "# # def checking_sub(arr1,arr2):\n",
    "    \n",
    "\n",
    "\n",
    "# # n =int(input(\"enter ajbgjn\"))\n",
    "\n",
    "\n",
    "# for i in range(1,101):\n",
    "#     if i <=1:\n",
    "#         print(\"not a prime\")\n",
    "#         # break\n",
    "#     else:\n",
    "#         for j in range(2,i+1):\n",
    "#             if i%j ==0:\n",
    "#                 print(i, \"is prime\")\n",
    "            \n",
    "\n",
    "\n",
    "for x in range(1, 101):\n",
    "    if x <= 1:\n",
    "        print(f\"{x} is not a prime\")\n",
    "    else:\n",
    "        count = 0\n",
    "        for i in range(2, x):\n",
    "            if x % i == 0:\n",
    "                count += 1\n",
    "        if count == 0:\n",
    "            print(f\"{x} is prime\")\n",
    "\n",
    "# for x in range(1,101):\n",
    "#     if x<=1:\n",
    "#         print(\"it is not a prime\")\n",
    "\n",
    "#     else:\n",
    "#         for i in range(2,x+1):\n",
    "#             if x%i ==0:\n",
    "#                 count +=1\n",
    "    \n",
    "#         if count ==1:\n",
    "#             print(\"prime\",x)\n",
    "\n"
   ]
  },
  {
   "cell_type": "code",
   "execution_count": 29,
   "metadata": {},
   "outputs": [
    {
     "name": "stdout",
     "output_type": "stream",
     "text": [
      "[2, 6, 15, 20, 26, 98]\n"
     ]
    },
    {
     "ename": "KeyboardInterrupt",
     "evalue": "",
     "output_type": "error",
     "traceback": [
      "\u001b[1;31m---------------------------------------------------------------------------\u001b[0m",
      "\u001b[1;31mKeyboardInterrupt\u001b[0m                         Traceback (most recent call last)",
      "Cell \u001b[1;32mIn[29], line 8\u001b[0m\n\u001b[0;32m      6\u001b[0m res \u001b[38;5;241m=\u001b[39m[]\n\u001b[0;32m      7\u001b[0m \u001b[38;5;28;01mfor\u001b[39;00m i \u001b[38;5;129;01min\u001b[39;00m list1:\n\u001b[1;32m----> 8\u001b[0m     temp \u001b[38;5;241m=\u001b[39m\u001b[43mlist2\u001b[49m\u001b[38;5;241m.\u001b[39mindex(i)\u001b[38;5;241m+\u001b[39m\u001b[38;5;241m1\u001b[39m\n\u001b[0;32m      9\u001b[0m     res\u001b[38;5;241m.\u001b[39mappend(temp)\n\u001b[0;32m     10\u001b[0m \u001b[38;5;28mprint\u001b[39m(res)\n",
      "Cell \u001b[1;32mIn[29], line 8\u001b[0m\n\u001b[0;32m      6\u001b[0m res \u001b[38;5;241m=\u001b[39m[]\n\u001b[0;32m      7\u001b[0m \u001b[38;5;28;01mfor\u001b[39;00m i \u001b[38;5;129;01min\u001b[39;00m list1:\n\u001b[1;32m----> 8\u001b[0m     temp \u001b[38;5;241m=\u001b[39m\u001b[43mlist2\u001b[49m\u001b[38;5;241m.\u001b[39mindex(i)\u001b[38;5;241m+\u001b[39m\u001b[38;5;241m1\u001b[39m\n\u001b[0;32m      9\u001b[0m     res\u001b[38;5;241m.\u001b[39mappend(temp)\n\u001b[0;32m     10\u001b[0m \u001b[38;5;28mprint\u001b[39m(res)\n",
      "File \u001b[1;32m_pydevd_bundle/pydevd_cython.pyx:1457\u001b[0m, in \u001b[0;36m_pydevd_bundle.pydevd_cython.SafeCallWrapper.__call__\u001b[1;34m()\u001b[0m\n",
      "File \u001b[1;32m_pydevd_bundle/pydevd_cython.pyx:701\u001b[0m, in \u001b[0;36m_pydevd_bundle.pydevd_cython.PyDBFrame.trace_dispatch\u001b[1;34m()\u001b[0m\n",
      "File \u001b[1;32m_pydevd_bundle/pydevd_cython.pyx:1152\u001b[0m, in \u001b[0;36m_pydevd_bundle.pydevd_cython.PyDBFrame.trace_dispatch\u001b[1;34m()\u001b[0m\n",
      "File \u001b[1;32m_pydevd_bundle/pydevd_cython.pyx:1135\u001b[0m, in \u001b[0;36m_pydevd_bundle.pydevd_cython.PyDBFrame.trace_dispatch\u001b[1;34m()\u001b[0m\n",
      "File \u001b[1;32m_pydevd_bundle/pydevd_cython.pyx:312\u001b[0m, in \u001b[0;36m_pydevd_bundle.pydevd_cython.PyDBFrame.do_wait_suspend\u001b[1;34m()\u001b[0m\n",
      "File \u001b[1;32m~\\AppData\\Roaming\\Python\\Python311\\site-packages\\debugpy\\_vendored\\pydevd\\pydevd.py:2070\u001b[0m, in \u001b[0;36mPyDB.do_wait_suspend\u001b[1;34m(self, thread, frame, event, arg, exception_type)\u001b[0m\n\u001b[0;32m   2067\u001b[0m             from_this_thread\u001b[38;5;241m.\u001b[39mappend(frame_custom_thread_id)\n\u001b[0;32m   2069\u001b[0m     \u001b[38;5;28;01mwith\u001b[39;00m \u001b[38;5;28mself\u001b[39m\u001b[38;5;241m.\u001b[39m_threads_suspended_single_notification\u001b[38;5;241m.\u001b[39mnotify_thread_suspended(thread_id, thread, stop_reason):\n\u001b[1;32m-> 2070\u001b[0m         keep_suspended \u001b[38;5;241m=\u001b[39m \u001b[38;5;28;43mself\u001b[39;49m\u001b[38;5;241;43m.\u001b[39;49m\u001b[43m_do_wait_suspend\u001b[49m\u001b[43m(\u001b[49m\u001b[43mthread\u001b[49m\u001b[43m,\u001b[49m\u001b[43m \u001b[49m\u001b[43mframe\u001b[49m\u001b[43m,\u001b[49m\u001b[43m \u001b[49m\u001b[43mevent\u001b[49m\u001b[43m,\u001b[49m\u001b[43m \u001b[49m\u001b[43marg\u001b[49m\u001b[43m,\u001b[49m\u001b[43m \u001b[49m\u001b[43msuspend_type\u001b[49m\u001b[43m,\u001b[49m\u001b[43m \u001b[49m\u001b[43mfrom_this_thread\u001b[49m\u001b[43m,\u001b[49m\u001b[43m \u001b[49m\u001b[43mframes_tracker\u001b[49m\u001b[43m)\u001b[49m\n\u001b[0;32m   2072\u001b[0m frames_list \u001b[38;5;241m=\u001b[39m \u001b[38;5;28;01mNone\u001b[39;00m\n\u001b[0;32m   2074\u001b[0m \u001b[38;5;28;01mif\u001b[39;00m keep_suspended:\n\u001b[0;32m   2075\u001b[0m     \u001b[38;5;66;03m# This means that we should pause again after a set next statement.\u001b[39;00m\n",
      "File \u001b[1;32m~\\AppData\\Roaming\\Python\\Python311\\site-packages\\debugpy\\_vendored\\pydevd\\pydevd.py:2106\u001b[0m, in \u001b[0;36mPyDB._do_wait_suspend\u001b[1;34m(self, thread, frame, event, arg, suspend_type, from_this_thread, frames_tracker)\u001b[0m\n\u001b[0;32m   2103\u001b[0m         \u001b[38;5;28mself\u001b[39m\u001b[38;5;241m.\u001b[39m_call_input_hook()\n\u001b[0;32m   2105\u001b[0m     \u001b[38;5;28mself\u001b[39m\u001b[38;5;241m.\u001b[39mprocess_internal_commands()\n\u001b[1;32m-> 2106\u001b[0m     time\u001b[38;5;241m.\u001b[39msleep(\u001b[38;5;241m0.01\u001b[39m)\n\u001b[0;32m   2108\u001b[0m \u001b[38;5;28mself\u001b[39m\u001b[38;5;241m.\u001b[39mcancel_async_evaluation(get_current_thread_id(thread), \u001b[38;5;28mstr\u001b[39m(\u001b[38;5;28mid\u001b[39m(frame)))\n\u001b[0;32m   2110\u001b[0m \u001b[38;5;66;03m# process any stepping instructions\u001b[39;00m\n",
      "\u001b[1;31mKeyboardInterrupt\u001b[0m: "
     ]
    }
   ],
   "source": [
    "list1 =[20,15,26,2,98,6]\n",
    "\n",
    "list2 =sorted(list1)\n",
    "print(list2)\n",
    "\n",
    "res =[]\n",
    "for i in list1:\n",
    "    temp =list2.index(i)+1\n",
    "    res.append(temp)\n",
    "print(res)\n",
    "\n",
    "\n",
    "# for i in list1:\n",
    "#     for j in list2:\n",
    "        "
   ]
  },
  {
   "cell_type": "code",
   "execution_count": null,
   "metadata": {},
   "outputs": [],
   "source": []
  },
  {
   "cell_type": "code",
   "execution_count": 30,
   "metadata": {},
   "outputs": [
    {
     "ename": "SyntaxError",
     "evalue": "invalid non-printable character U+00A0 (4221415030.py, line 9)",
     "output_type": "error",
     "traceback": [
      "\u001b[1;36m  Cell \u001b[1;32mIn[30], line 9\u001b[1;36m\u001b[0m\n\u001b[1;33m    high -= 1\u001b[0m\n\u001b[1;37m           ^\u001b[0m\n\u001b[1;31mSyntaxError\u001b[0m\u001b[1;31m:\u001b[0m invalid non-printable character U+00A0\n"
     ]
    }
   ],
   "source": [
    "list1 = [8,7,1,6,5,9,4]\n",
    "list1.sort()\n",
    "print(list1)\n",
    "low = (len(list1)-1)//2+1\n",
    "high = len(list1)-1\n",
    "while low<high:\n",
    "    list1[low],list1[high] = list1[high],list1[low]\n",
    "    low += 1\n",
    "    high -= 1\n",
    "print(list1)"
   ]
  },
  {
   "cell_type": "code",
   "execution_count": null,
   "metadata": {},
   "outputs": [
    {
     "name": "stdout",
     "output_type": "stream",
     "text": [
      "4538\n"
     ]
    }
   ],
   "source": [
    "list2 =[[1,3,2],[5,3,2],[2,4517,3]]\n",
    "sum =0\n",
    "\n",
    "\n",
    "# for i in list2:\n",
    "#     for j in i:\n",
    "#         sum+=j\n",
    "# print(sum)\n",
    "\n",
    "\n",
    "\n",
    "for i in range(len())"
   ]
  }
 ],
 "metadata": {
  "kernelspec": {
   "display_name": "Python 3",
   "language": "python",
   "name": "python3"
  },
  "language_info": {
   "codemirror_mode": {
    "name": "ipython",
    "version": 3
   },
   "file_extension": ".py",
   "mimetype": "text/x-python",
   "name": "python",
   "nbconvert_exporter": "python",
   "pygments_lexer": "ipython3",
   "version": "3.11.5"
  }
 },
 "nbformat": 4,
 "nbformat_minor": 2
}
