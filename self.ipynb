{
 "cells": [
  {
   "cell_type": "code",
   "execution_count": 8,
   "metadata": {},
   "outputs": [
    {
     "name": "stdout",
     "output_type": "stream",
     "text": [
      "364  this the highest number in list \n",
      "1\n",
      "446\n"
     ]
    }
   ],
   "source": [
    "list1 =[1,2,364,6,32,6,2,33]\n",
    "max_men =list1[0]\n",
    "min_men =list1[0]\n",
    "sums =0\n",
    "\n",
    "for i in range(0,len(list1)):\n",
    "    # print(list1[i])\n",
    "    if list1[i]> max_mem:\n",
    "        max_mem =list1[i]\n",
    "    if list1[i]<min_men:\n",
    "        min_men=list1[i]\n",
    "    sums +=list1[i]\n",
    "print(max_mem,\" this the highest number in list \")\n",
    "print(min_men)\n",
    "print(sums)"
   ]
  },
  {
   "cell_type": "code",
   "execution_count": 12,
   "metadata": {},
   "outputs": [
    {
     "name": "stdout",
     "output_type": "stream",
     "text": [
      "2032\n"
     ]
    }
   ],
   "source": [
    "#next leap year \n",
    "\n",
    "year =int(input(\"enter the number for the next leap year:\"))\n",
    "while True:\n",
    "    year +=1\n",
    "    count =0\n",
    "    if ((year % 4 == 0 ) and ( year % 100 !=0 ) ) and (year % 400):\n",
    "        count+=1\n",
    "    if count ==1:\n",
    "        print(year)\n",
    "        break"
   ]
  },
  {
   "cell_type": "code",
   "execution_count": 3,
   "metadata": {},
   "outputs": [
    {
     "name": "stdout",
     "output_type": "stream",
     "text": [
      "Sum of diagonal elements: 25\n"
     ]
    }
   ],
   "source": [
    "matrix = [\n",
    "    [1, 2, 3],\n",
    "    [4, 5, 6],\n",
    "    [7, 8, 9]\n",
    "]\n",
    "\n",
    "sum_diagonal = 0\n",
    "n = len(matrix)\n",
    "\n",
    "for i in range(n):\n",
    "    sum_diagonal += matrix[i][i]\n",
    "    if i != n - i - 1:  \n",
    "        sum_diagonal += matrix[i][n - i - 1]  \n",
    "\n",
    "print(\"Sum of diagonal elements:\", sum_diagonal)\n"
   ]
  },
  {
   "cell_type": "code",
   "execution_count": 19,
   "metadata": {},
   "outputs": [
    {
     "name": "stdout",
     "output_type": "stream",
     "text": [
      "3\n",
      "4\n",
      "5\n",
      "6\n",
      "8\n",
      "-10\n",
      "-11\n",
      "-12\n",
      "0\n"
     ]
    }
   ],
   "source": [
    "list1 = [[3, 4, 5], [6, 7, 8], [-10, -11, -12]]\n",
    "\n",
    "sum = 0\n",
    "for i in range(len(list1)):\n",
    "    for j in range(len(list1[i])):\n",
    "        if i == 0 or i == len(list1) - 1:\n",
    "            # sum += list1[i][j]\n",
    "            print(list1[i][j])\n",
    "        else:\n",
    "            if j == 0 or j == len(list1[i]) -1:\n",
    "                # sum += list1[i][j]\n",
    "                print(list1[i][j])\n",
    "print(sum)"
   ]
  },
  {
   "cell_type": "code",
   "execution_count": null,
   "metadata": {},
   "outputs": [
    {
     "name": "stdout",
     "output_type": "stream",
     "text": [
      "[[1, 4, 9], [2, 5, 2], [3, 7, 5]]\n"
     ]
    }
   ],
   "source": [
    "listing =[[1,2,3],[4,5,7],[9,2,5]]\n",
    "for i in range(len(listing)):\n",
    "    for j in range(len(listing[i])):\n",
    "        if i<=j:\n",
    "            listing[i][j],listing[j][i] =listing[j][i],listing[i][j]\n",
    "print(listing)\n",
    "\n",
    "\n",
    "\n",
    "\n",
    "        "
   ]
  },
  {
   "cell_type": "code",
   "execution_count": 4,
   "metadata": {},
   "outputs": [
    {
     "name": "stdout",
     "output_type": "stream",
     "text": [
      "11\n"
     ]
    }
   ],
   "source": [
    "listing =[[1,2,3],[4,5,7],[9,2,5]]\n",
    "sums =0\n",
    "for i in range(len(listing)):\n",
    "    for j in range(len(listing[i])):\n",
    "        if i==j:\n",
    "            sums +=listing[i][j]\n",
    "            \n",
    "print(sums)\n",
    "\n",
    "\n",
    "\n",
    "\n",
    "        "
   ]
  },
  {
   "cell_type": "code",
   "execution_count": 5,
   "metadata": {},
   "outputs": [
    {
     "name": "stdout",
     "output_type": "stream",
     "text": [
      "23\n"
     ]
    }
   ],
   "source": [
    "listing =[[1,2,3],[4,5,7],[9,2,5]]\n",
    "sums =0\n",
    "for i in range(len(listing)):\n",
    "    for j in range(len(listing[i])):\n",
    "        if i==j or i+j ==len(listing)-1:\n",
    "            sums +=listing[i][j]\n",
    "            \n",
    "print(sums)"
   ]
  },
  {
   "cell_type": "code",
   "execution_count": 10,
   "metadata": {},
   "outputs": [
    {
     "name": "stdout",
     "output_type": "stream",
     "text": [
      "5\n"
     ]
    }
   ],
   "source": [
    "listing =[[1,2,3],[4,5,7],[9,2,5]]\n",
    "sums =0\n",
    "for i in range(len(listing)):\n",
    "    for j in range(len(listing[i])):\n",
    "        \n",
    "        if (i==j and i+j ==len(listing)-1):\n",
    "            sums +=listing[i][j]\n",
    "            \n",
    "print(sums)"
   ]
  },
  {
   "cell_type": "code",
   "execution_count": null,
   "metadata": {},
   "outputs": [],
   "source": [
    "listing =[[1,2,3],[4,5,7],[9,2,5]]\n",
    "sums =0\n",
    "for i in range(len(listing)):\n",
    "    for j in range(len(listing[i])):\n",
    "        if i==j or i+j ==len(listing)-1:\n",
    "            sums +=listing[i][j]\n",
    "            if (i==j and i+j ==len(listing)-1):\n",
    "                sums +=listing[i][j]\n",
    "            \n",
    "print(sums)"
   ]
  },
  {
   "cell_type": "code",
   "execution_count": null,
   "metadata": {},
   "outputs": [
    {
     "name": "stdout",
     "output_type": "stream",
     "text": [
      "1 2 3 \n",
      "4   7 \n",
      "9 2 5 \n"
     ]
    }
   ],
   "source": [
    "# printting the diagnal elemts \n",
    "listings =[[1,2,3],[4,5,7],[9,2,5]]\n",
    "\n",
    "for i in range(len(listings)):\n",
    "    for j in range(len(listings[i])):\n",
    "        if (i == 0 or i == len(listings)-1 or j == 0 or j == len(listings[i])-1):\n",
    "            print(listings[i][j], end=\" \")\n",
    "        else:\n",
    "            print(\" \", end=\" \")\n",
    "    print()\n"
   ]
  },
  {
   "cell_type": "code",
   "execution_count": 34,
   "metadata": {},
   "outputs": [
    {
     "name": "stdout",
     "output_type": "stream",
     "text": [
      "1 2 3 \n",
      "4 2 1 \n",
      "9 3 1 \n"
     ]
    }
   ],
   "source": [
    "# accesing the nested list\n",
    "list1 =[[1,2,3],[4,2,1],[9,3,1]]\n",
    "for i in range(len(list1)):\n",
    "    for j in range(len(list1[i])):\n",
    "        print(list1[i][j],end=\" \")\n",
    "    print()\n"
   ]
  },
  {
   "cell_type": "code",
   "execution_count": 42,
   "metadata": {},
   "outputs": [
    {
     "name": "stdout",
     "output_type": "stream",
     "text": [
      "1 4 3 \n",
      "6 2 7 \n",
      "9 3 2 \n"
     ]
    }
   ],
   "source": [
    "# reverse the oddest row of the matrix \n",
    "listingss =[[1,4,3],[7,2,6],[9,3,2]]\n",
    "for i in range(len(listingss)):\n",
    "        if i%2 ==0:\n",
    "            for j in range(len(listingss[i])):\n",
    "                print(listingss[i][j],end=\" \")\n",
    "        else:\n",
    "             for j in range(len(listingss[i])-1,-1,-1):\n",
    "                  print(listingss[i][j],end=\" \")\n",
    "        print()"
   ]
  },
  {
   "cell_type": "code",
   "execution_count": null,
   "metadata": {},
   "outputs": [],
   "source": [
    "list1 = [[1, 2, 3], [4, 2, 1], [9, 3, 1]]\n",
    "n = len(list1)\n",
    "\n",
    "for d in range(2 * n - 1):  \n",
    "    for i in range(n):\n",
    "        for j in range(n):\n",
    "            if i + j == d:\n",
    "                print(list1[i][j], end=\" \")\n",
    "    print()\n"
   ]
  },
  {
   "cell_type": "code",
   "execution_count": 43,
   "metadata": {},
   "outputs": [
    {
     "name": "stdout",
     "output_type": "stream",
     "text": [
      "1 \n",
      "2 4 \n",
      "3 2 9 \n",
      "1 3 \n",
      "1 \n"
     ]
    }
   ],
   "source": [
    "list1 = [[1, 2, 3], [4, 2, 1], [9, 3, 1]]\n",
    "n = len(list1)\n",
    "\n",
    "for d in range(2 * n - 1):  \n",
    "    for i in range(n):\n",
    "        for j in range(n):\n",
    "            if i + j == d:\n",
    "                print(list1[i][j], end=\" \")\n",
    "    print()\n"
   ]
  }
 ],
 "metadata": {
  "kernelspec": {
   "display_name": "Python 3",
   "language": "python",
   "name": "python3"
  },
  "language_info": {
   "codemirror_mode": {
    "name": "ipython",
    "version": 3
   },
   "file_extension": ".py",
   "mimetype": "text/x-python",
   "name": "python",
   "nbconvert_exporter": "python",
   "pygments_lexer": "ipython3",
   "version": "3.11.5"
  }
 },
 "nbformat": 4,
 "nbformat_minor": 2
}
